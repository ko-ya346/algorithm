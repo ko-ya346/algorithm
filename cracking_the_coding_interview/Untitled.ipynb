{
 "cells": [
  {
   "cell_type": "code",
   "execution_count": 21,
   "id": "9e2460ed",
   "metadata": {
    "ExecuteTime": {
     "end_time": "2023-01-09T04:23:04.458421Z",
     "start_time": "2023-01-09T04:23:04.451543Z"
    }
   },
   "outputs": [
    {
     "name": "stdout",
     "output_type": "stream",
     "text": [
      "True\n",
      "False\n"
     ]
    }
   ],
   "source": [
    "from collections import Counter, defaultdict\n",
    "\n",
    "\n",
    "# P107\n",
    "# 1.1\n",
    "def solve1_1(strings):\n",
    "    return len(strings) == len(set(strings))\n",
    "\n",
    "# 1.2\n",
    "def solve1_2(str1, str2):\n",
    "    return Counter(str1) == Counter(str2)\n",
    "\n",
    "s1 = \"abbc\"\n",
    "s2 = \"babc\"\n",
    "s3 = \"abcc\"\n",
    "print(solve1_2(s1, s2))\n",
    "print(solve1_2(s1, s3))"
   ]
  },
  {
   "cell_type": "code",
   "execution_count": 26,
   "id": "cca4d294",
   "metadata": {
    "ExecuteTime": {
     "end_time": "2023-01-09T04:36:45.312785Z",
     "start_time": "2023-01-09T04:36:45.291885Z"
    }
   },
   "outputs": [
    {
     "name": "stdout",
     "output_type": "stream",
     "text": [
      "True\n",
      "False\n",
      "True\n",
      "True\n",
      "True\n"
     ]
    }
   ],
   "source": [
    "def solve1_4(s):\n",
    "    d = defaultdict(int)\n",
    "    for ss in s:\n",
    "        d[ss] += 1\n",
    "    \n",
    "    cnt_odd = 0\n",
    "    for v in d.values():\n",
    "        if v % 2:\n",
    "            cnt_odd += 1\n",
    "    return cnt_odd <= 1\n",
    "\n",
    "print(solve1_4(\"abba\"))\n",
    "print(solve1_4(\"cbba\"))\n",
    "print(solve1_4(\"cbbaa\"))\n",
    "print(solve1_4(\"cbbbbaa\"))\n",
    "print(solve1_4(\"bbbbaa\"))\n",
    "        \n",
    "        "
   ]
  },
  {
   "cell_type": "code",
   "execution_count": 53,
   "id": "94d586d1",
   "metadata": {
    "ExecuteTime": {
     "end_time": "2023-01-09T04:45:57.962829Z",
     "start_time": "2023-01-09T04:45:57.946473Z"
    }
   },
   "outputs": [
    {
     "name": "stdout",
     "output_type": "stream",
     "text": [
      "True\n",
      "False\n",
      "True\n",
      "True\n",
      "True\n"
     ]
    }
   ],
   "source": [
    "def solve1_4(s):\n",
    "    bit = 0\n",
    "    for ss in s: \n",
    "        bit ^= 1 << (ord(ss) - 97)\n",
    "#         print(bit)\n",
    "#         print(bin(bit))\n",
    "    return (bit & bit - 1) == 0\n",
    "\n",
    "print(solve1_4(\"abba\"))\n",
    "print(solve1_4(\"cbba\"))\n",
    "print(solve1_4(\"cbbaa\"))\n",
    "print(solve1_4(\"cbbbbaa\"))\n",
    "print(solve1_4(\"bbbbaa\"))\n"
   ]
  },
  {
   "cell_type": "code",
   "execution_count": 73,
   "id": "703a94cb",
   "metadata": {
    "ExecuteTime": {
     "end_time": "2023-01-09T05:09:24.638338Z",
     "start_time": "2023-01-09T05:09:24.632696Z"
    }
   },
   "outputs": [
    {
     "name": "stdout",
     "output_type": "stream",
     "text": [
      "abcee abce\n",
      "defaultdict(<class 'int'>, {'a': 0, 'b': 0, 'c': 0, 'e': -1})\n"
     ]
    },
    {
     "data": {
      "text/plain": [
       "True"
      ]
     },
     "execution_count": 73,
     "metadata": {},
     "output_type": "execute_result"
    }
   ],
   "source": [
    "def solve1_5(s1, s2):\n",
    "    print(s1, s2)\n",
    "    d = defaultdict(int)\n",
    "    for s in s2:\n",
    "        d[s] += 1\n",
    "    \n",
    "    for s in s1:\n",
    "        d[s] -= 1\n",
    "    print(d)\n",
    "    \n",
    "    cnt = 0\n",
    "    for v in d.values():\n",
    "        if abs(v) >= 2:\n",
    "            return False\n",
    "        cnt += v\n",
    "    return abs(cnt) <= 1\n",
    "        \n",
    "solve1_5(\"abcee\", \"abce\")\n",
    "\n",
    "# 想定解\n",
    "# 2つの文字列の長さが同じ場合は置換、そうでなければ削除or挿入の判定を行う"
   ]
  },
  {
   "cell_type": "code",
   "execution_count": 82,
   "id": "c8ebd78f",
   "metadata": {
    "ExecuteTime": {
     "end_time": "2023-01-09T05:16:42.078744Z",
     "start_time": "2023-01-09T05:16:42.074198Z"
    }
   },
   "outputs": [
    {
     "name": "stdout",
     "output_type": "stream",
     "text": [
      "a2b3c1d4\n",
      "abcd\n",
      "a4\n"
     ]
    }
   ],
   "source": [
    "def solve1_6(str_):\n",
    "    prev_s = str_[0]\n",
    "    ret = [prev_s] \n",
    "    cnt = 1\n",
    "    for s in str_[1:]:\n",
    "        if prev_s == s:\n",
    "            cnt += 1\n",
    "            continue\n",
    "        if cnt >= 1:\n",
    "            ret.append(str(cnt))\n",
    "            cnt = 1\n",
    "        ret.append(s)\n",
    "        prev_s = s\n",
    "    \n",
    "    if cnt >= 1:\n",
    "        ret.append(str(cnt))\n",
    "    ret = \"\".join(ret)\n",
    "    if len(ret) > len(str_):\n",
    "         ret = str_\n",
    "    return ret\n",
    "\n",
    "print(solve1_6(\"aabbbcdddd\"))\n",
    "print(solve1_6(\"abcd\"))\n",
    "print(solve1_6(\"aaaa\"))\n",
    "        "
   ]
  },
  {
   "cell_type": "code",
   "execution_count": null,
   "id": "e17ff66e",
   "metadata": {},
   "outputs": [],
   "source": []
  }
 ],
 "metadata": {
  "kernelspec": {
   "display_name": "Python 3 (ipykernel)",
   "language": "python",
   "name": "python3"
  },
  "language_info": {
   "codemirror_mode": {
    "name": "ipython",
    "version": 3
   },
   "file_extension": ".py",
   "mimetype": "text/x-python",
   "name": "python",
   "nbconvert_exporter": "python",
   "pygments_lexer": "ipython3",
   "version": "3.8.10"
  },
  "toc": {
   "base_numbering": 1,
   "nav_menu": {},
   "number_sections": true,
   "sideBar": true,
   "skip_h1_title": false,
   "title_cell": "Table of Contents",
   "title_sidebar": "Contents",
   "toc_cell": false,
   "toc_position": {},
   "toc_section_display": true,
   "toc_window_display": false
  }
 },
 "nbformat": 4,
 "nbformat_minor": 5
}
